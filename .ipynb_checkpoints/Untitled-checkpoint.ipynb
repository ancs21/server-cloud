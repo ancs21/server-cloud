{
 "cells": [
  {
   "cell_type": "code",
   "execution_count": 1,
   "metadata": {},
   "outputs": [
    {
     "name": "stdout",
     "output_type": "stream",
     "text": [
      "--2019-03-20 02:28:05--  https://storage.googleapis.com/fruits3class/3class.zip\n",
      "Resolving storage.googleapis.com (storage.googleapis.com)... 74.125.141.128, 2607:f8b0:400c:c06::80\n",
      "Connecting to storage.googleapis.com (storage.googleapis.com)|74.125.141.128|:443... connected.\n",
      "HTTP request sent, awaiting response... 200 OK\n",
      "Length: 234778520 (224M) [application/x-zip-compressed]\n",
      "Saving to: ‘3class.zip’\n",
      "\n",
      "3class.zip          100%[===================>] 223.90M   105MB/s    in 2.1s    \n",
      "\n",
      "2019-03-20 02:28:07 (105 MB/s) - ‘3class.zip’ saved [234778520/234778520]\n",
      "\n"
     ]
    }
   ],
   "source": [
    "!wget https://storage.googleapis.com/fruits3class/3class.zip"
   ]
  },
  {
   "cell_type": "code",
   "execution_count": 2,
   "metadata": {},
   "outputs": [],
   "source": [
    "!unzip -q 3class.zip"
   ]
  },
  {
   "cell_type": "code",
   "execution_count": 3,
   "metadata": {},
   "outputs": [
    {
     "name": "stderr",
     "output_type": "stream",
     "text": [
      "Using TensorFlow backend.\n"
     ]
    }
   ],
   "source": [
    "import os\n",
    "from os import listdir, makedirs\n",
    "from os.path import join, exists, expanduser\n",
    "\n",
    "from keras import applications\n",
    "from keras.preprocessing.image import ImageDataGenerator\n",
    "from keras import optimizers\n",
    "from keras.models import Sequential, Model\n",
    "from keras.layers import Dense, GlobalAveragePooling2D\n",
    "from keras.layers import Activation, Dropout, Flatten, Dense\n",
    "from keras import backend as K\n",
    "import tensorflow as tf\n",
    "# Any results you write to the current directory are saved as output."
   ]
  },
  {
   "cell_type": "code",
   "execution_count": 4,
   "metadata": {},
   "outputs": [],
   "source": [
    "# dimensions of our images.\n",
    "img_width, img_height = 224, 224 # we set the img_width and img_height according to the pretrained models we are\n",
    "# going to use. The input size for ResNet-50 is 224 by 224 by 3.\n",
    "\n",
    "train_data_dir = 'train/'\n",
    "validation_data_dir = 'valid/'\n",
    "test_data_dir = 'test/'\n",
    "\n",
    "batch_size = 16"
   ]
  },
  {
   "cell_type": "code",
   "execution_count": 80,
   "metadata": {},
   "outputs": [
    {
     "name": "stdout",
     "output_type": "stream",
     "text": [
      "Found 1062 images belonging to 3 classes.\n",
      "Found 149 images belonging to 3 classes.\n",
      "Found 150 images belonging to 3 classes.\n"
     ]
    }
   ],
   "source": [
    "train_datagen = ImageDataGenerator(\n",
    "    rescale=1. / 255,\n",
    "    shear_range=0.2,\n",
    "    zoom_range=0.2,\n",
    "    horizontal_flip=True\n",
    ")\n",
    "valid_datagen = ImageDataGenerator(rescale=1. / 255)\n",
    "test_datagen = ImageDataGenerator(rescale=1. / 255)\n",
    "\n",
    "train_generator = train_datagen.flow_from_directory(\n",
    "    train_data_dir,\n",
    "    target_size=(img_height, img_width),\n",
    "    batch_size=batch_size,\n",
    "    class_mode='categorical')\n",
    "\n",
    "validation_generator = valid_datagen.flow_from_directory(\n",
    "    validation_data_dir,\n",
    "    target_size=(img_height, img_width),\n",
    "    batch_size=batch_size,\n",
    "    class_mode='categorical')\n",
    "\n",
    "test_generator = test_datagen.flow_from_directory(\n",
    "    test_data_dir,\n",
    "    target_size=(img_height, img_width),\n",
    "    batch_size=25,\n",
    "    class_mode='categorical',\n",
    "    shuffle=False\n",
    ")"
   ]
  },
  {
   "cell_type": "code",
   "execution_count": 6,
   "metadata": {},
   "outputs": [
    {
     "name": "stdout",
     "output_type": "stream",
     "text": [
      "WARNING:tensorflow:From /usr/local/lib/python3.5/dist-packages/tensorflow/python/framework/op_def_library.py:263: colocate_with (from tensorflow.python.framework.ops) is deprecated and will be removed in a future version.\n",
      "Instructions for updating:\n",
      "Colocations handled automatically by placer.\n"
     ]
    }
   ],
   "source": [
    "#import inception with pre-trained weights. do not include fully #connected layers\n",
    "mobile_base = applications.MobileNet(weights=None, include_top=False)\n",
    "\n",
    "# add a global spatial average pooling layer\n",
    "x = mobile_base.output\n",
    "x = GlobalAveragePooling2D()(x)\n",
    "# add a fully-connected layer\n",
    "x = Dense(512, activation='relu')(x)\n",
    "# and a fully connected output/classification layer\n",
    "predictions = Dense(3, activation='softmax')(x)\n",
    "# create the full network so we can train on it\n",
    "mobile_transfer = Model(inputs=mobile_base.input, outputs=predictions)"
   ]
  },
  {
   "cell_type": "code",
   "execution_count": 7,
   "metadata": {},
   "outputs": [
    {
     "name": "stdout",
     "output_type": "stream",
     "text": [
      "_________________________________________________________________\n",
      "Layer (type)                 Output Shape              Param #   \n",
      "=================================================================\n",
      "input_1 (InputLayer)         (None, None, None, 3)     0         \n",
      "_________________________________________________________________\n",
      "conv1_pad (ZeroPadding2D)    (None, None, None, 3)     0         \n",
      "_________________________________________________________________\n",
      "conv1 (Conv2D)               (None, None, None, 32)    864       \n",
      "_________________________________________________________________\n",
      "conv1_bn (BatchNormalization (None, None, None, 32)    128       \n",
      "_________________________________________________________________\n",
      "conv1_relu (ReLU)            (None, None, None, 32)    0         \n",
      "_________________________________________________________________\n",
      "conv_dw_1 (DepthwiseConv2D)  (None, None, None, 32)    288       \n",
      "_________________________________________________________________\n",
      "conv_dw_1_bn (BatchNormaliza (None, None, None, 32)    128       \n",
      "_________________________________________________________________\n",
      "conv_dw_1_relu (ReLU)        (None, None, None, 32)    0         \n",
      "_________________________________________________________________\n",
      "conv_pw_1 (Conv2D)           (None, None, None, 64)    2048      \n",
      "_________________________________________________________________\n",
      "conv_pw_1_bn (BatchNormaliza (None, None, None, 64)    256       \n",
      "_________________________________________________________________\n",
      "conv_pw_1_relu (ReLU)        (None, None, None, 64)    0         \n",
      "_________________________________________________________________\n",
      "conv_pad_2 (ZeroPadding2D)   (None, None, None, 64)    0         \n",
      "_________________________________________________________________\n",
      "conv_dw_2 (DepthwiseConv2D)  (None, None, None, 64)    576       \n",
      "_________________________________________________________________\n",
      "conv_dw_2_bn (BatchNormaliza (None, None, None, 64)    256       \n",
      "_________________________________________________________________\n",
      "conv_dw_2_relu (ReLU)        (None, None, None, 64)    0         \n",
      "_________________________________________________________________\n",
      "conv_pw_2 (Conv2D)           (None, None, None, 128)   8192      \n",
      "_________________________________________________________________\n",
      "conv_pw_2_bn (BatchNormaliza (None, None, None, 128)   512       \n",
      "_________________________________________________________________\n",
      "conv_pw_2_relu (ReLU)        (None, None, None, 128)   0         \n",
      "_________________________________________________________________\n",
      "conv_dw_3 (DepthwiseConv2D)  (None, None, None, 128)   1152      \n",
      "_________________________________________________________________\n",
      "conv_dw_3_bn (BatchNormaliza (None, None, None, 128)   512       \n",
      "_________________________________________________________________\n",
      "conv_dw_3_relu (ReLU)        (None, None, None, 128)   0         \n",
      "_________________________________________________________________\n",
      "conv_pw_3 (Conv2D)           (None, None, None, 128)   16384     \n",
      "_________________________________________________________________\n",
      "conv_pw_3_bn (BatchNormaliza (None, None, None, 128)   512       \n",
      "_________________________________________________________________\n",
      "conv_pw_3_relu (ReLU)        (None, None, None, 128)   0         \n",
      "_________________________________________________________________\n",
      "conv_pad_4 (ZeroPadding2D)   (None, None, None, 128)   0         \n",
      "_________________________________________________________________\n",
      "conv_dw_4 (DepthwiseConv2D)  (None, None, None, 128)   1152      \n",
      "_________________________________________________________________\n",
      "conv_dw_4_bn (BatchNormaliza (None, None, None, 128)   512       \n",
      "_________________________________________________________________\n",
      "conv_dw_4_relu (ReLU)        (None, None, None, 128)   0         \n",
      "_________________________________________________________________\n",
      "conv_pw_4 (Conv2D)           (None, None, None, 256)   32768     \n",
      "_________________________________________________________________\n",
      "conv_pw_4_bn (BatchNormaliza (None, None, None, 256)   1024      \n",
      "_________________________________________________________________\n",
      "conv_pw_4_relu (ReLU)        (None, None, None, 256)   0         \n",
      "_________________________________________________________________\n",
      "conv_dw_5 (DepthwiseConv2D)  (None, None, None, 256)   2304      \n",
      "_________________________________________________________________\n",
      "conv_dw_5_bn (BatchNormaliza (None, None, None, 256)   1024      \n",
      "_________________________________________________________________\n",
      "conv_dw_5_relu (ReLU)        (None, None, None, 256)   0         \n",
      "_________________________________________________________________\n",
      "conv_pw_5 (Conv2D)           (None, None, None, 256)   65536     \n",
      "_________________________________________________________________\n",
      "conv_pw_5_bn (BatchNormaliza (None, None, None, 256)   1024      \n",
      "_________________________________________________________________\n",
      "conv_pw_5_relu (ReLU)        (None, None, None, 256)   0         \n",
      "_________________________________________________________________\n",
      "conv_pad_6 (ZeroPadding2D)   (None, None, None, 256)   0         \n",
      "_________________________________________________________________\n",
      "conv_dw_6 (DepthwiseConv2D)  (None, None, None, 256)   2304      \n",
      "_________________________________________________________________\n",
      "conv_dw_6_bn (BatchNormaliza (None, None, None, 256)   1024      \n",
      "_________________________________________________________________\n",
      "conv_dw_6_relu (ReLU)        (None, None, None, 256)   0         \n",
      "_________________________________________________________________\n",
      "conv_pw_6 (Conv2D)           (None, None, None, 512)   131072    \n",
      "_________________________________________________________________\n",
      "conv_pw_6_bn (BatchNormaliza (None, None, None, 512)   2048      \n",
      "_________________________________________________________________\n",
      "conv_pw_6_relu (ReLU)        (None, None, None, 512)   0         \n",
      "_________________________________________________________________\n",
      "conv_dw_7 (DepthwiseConv2D)  (None, None, None, 512)   4608      \n",
      "_________________________________________________________________\n",
      "conv_dw_7_bn (BatchNormaliza (None, None, None, 512)   2048      \n",
      "_________________________________________________________________\n",
      "conv_dw_7_relu (ReLU)        (None, None, None, 512)   0         \n",
      "_________________________________________________________________\n",
      "conv_pw_7 (Conv2D)           (None, None, None, 512)   262144    \n",
      "_________________________________________________________________\n",
      "conv_pw_7_bn (BatchNormaliza (None, None, None, 512)   2048      \n",
      "_________________________________________________________________\n",
      "conv_pw_7_relu (ReLU)        (None, None, None, 512)   0         \n",
      "_________________________________________________________________\n",
      "conv_dw_8 (DepthwiseConv2D)  (None, None, None, 512)   4608      \n",
      "_________________________________________________________________\n",
      "conv_dw_8_bn (BatchNormaliza (None, None, None, 512)   2048      \n",
      "_________________________________________________________________\n",
      "conv_dw_8_relu (ReLU)        (None, None, None, 512)   0         \n",
      "_________________________________________________________________\n",
      "conv_pw_8 (Conv2D)           (None, None, None, 512)   262144    \n",
      "_________________________________________________________________\n",
      "conv_pw_8_bn (BatchNormaliza (None, None, None, 512)   2048      \n",
      "_________________________________________________________________\n",
      "conv_pw_8_relu (ReLU)        (None, None, None, 512)   0         \n",
      "_________________________________________________________________\n",
      "conv_dw_9 (DepthwiseConv2D)  (None, None, None, 512)   4608      \n",
      "_________________________________________________________________\n",
      "conv_dw_9_bn (BatchNormaliza (None, None, None, 512)   2048      \n",
      "_________________________________________________________________\n",
      "conv_dw_9_relu (ReLU)        (None, None, None, 512)   0         \n",
      "_________________________________________________________________\n",
      "conv_pw_9 (Conv2D)           (None, None, None, 512)   262144    \n",
      "_________________________________________________________________\n",
      "conv_pw_9_bn (BatchNormaliza (None, None, None, 512)   2048      \n",
      "_________________________________________________________________\n",
      "conv_pw_9_relu (ReLU)        (None, None, None, 512)   0         \n",
      "_________________________________________________________________\n",
      "conv_dw_10 (DepthwiseConv2D) (None, None, None, 512)   4608      \n",
      "_________________________________________________________________\n",
      "conv_dw_10_bn (BatchNormaliz (None, None, None, 512)   2048      \n",
      "_________________________________________________________________\n",
      "conv_dw_10_relu (ReLU)       (None, None, None, 512)   0         \n",
      "_________________________________________________________________\n",
      "conv_pw_10 (Conv2D)          (None, None, None, 512)   262144    \n",
      "_________________________________________________________________\n",
      "conv_pw_10_bn (BatchNormaliz (None, None, None, 512)   2048      \n",
      "_________________________________________________________________\n",
      "conv_pw_10_relu (ReLU)       (None, None, None, 512)   0         \n",
      "_________________________________________________________________\n",
      "conv_dw_11 (DepthwiseConv2D) (None, None, None, 512)   4608      \n",
      "_________________________________________________________________\n",
      "conv_dw_11_bn (BatchNormaliz (None, None, None, 512)   2048      \n",
      "_________________________________________________________________\n",
      "conv_dw_11_relu (ReLU)       (None, None, None, 512)   0         \n",
      "_________________________________________________________________\n",
      "conv_pw_11 (Conv2D)          (None, None, None, 512)   262144    \n",
      "_________________________________________________________________\n",
      "conv_pw_11_bn (BatchNormaliz (None, None, None, 512)   2048      \n",
      "_________________________________________________________________\n",
      "conv_pw_11_relu (ReLU)       (None, None, None, 512)   0         \n",
      "_________________________________________________________________\n",
      "conv_pad_12 (ZeroPadding2D)  (None, None, None, 512)   0         \n",
      "_________________________________________________________________\n",
      "conv_dw_12 (DepthwiseConv2D) (None, None, None, 512)   4608      \n",
      "_________________________________________________________________\n",
      "conv_dw_12_bn (BatchNormaliz (None, None, None, 512)   2048      \n",
      "_________________________________________________________________\n",
      "conv_dw_12_relu (ReLU)       (None, None, None, 512)   0         \n",
      "_________________________________________________________________\n",
      "conv_pw_12 (Conv2D)          (None, None, None, 1024)  524288    \n",
      "_________________________________________________________________\n",
      "conv_pw_12_bn (BatchNormaliz (None, None, None, 1024)  4096      \n",
      "_________________________________________________________________\n",
      "conv_pw_12_relu (ReLU)       (None, None, None, 1024)  0         \n",
      "_________________________________________________________________\n",
      "conv_dw_13 (DepthwiseConv2D) (None, None, None, 1024)  9216      \n",
      "_________________________________________________________________\n",
      "conv_dw_13_bn (BatchNormaliz (None, None, None, 1024)  4096      \n",
      "_________________________________________________________________\n",
      "conv_dw_13_relu (ReLU)       (None, None, None, 1024)  0         \n",
      "_________________________________________________________________\n",
      "conv_pw_13 (Conv2D)          (None, None, None, 1024)  1048576   \n",
      "_________________________________________________________________\n",
      "conv_pw_13_bn (BatchNormaliz (None, None, None, 1024)  4096      \n",
      "_________________________________________________________________\n",
      "conv_pw_13_relu (ReLU)       (None, None, None, 1024)  0         \n",
      "_________________________________________________________________\n",
      "global_average_pooling2d_1 ( (None, 1024)              0         \n",
      "_________________________________________________________________\n",
      "dense_1 (Dense)              (None, 512)               524800    \n",
      "_________________________________________________________________\n",
      "dense_2 (Dense)              (None, 3)                 1539      \n",
      "=================================================================\n",
      "Total params: 3,755,203\n",
      "Trainable params: 3,733,315\n",
      "Non-trainable params: 21,888\n",
      "_________________________________________________________________\n"
     ]
    }
   ],
   "source": [
    "mobile_transfer.summary()"
   ]
  },
  {
   "cell_type": "code",
   "execution_count": 8,
   "metadata": {},
   "outputs": [],
   "source": [
    "mobile_transfer.compile(loss='categorical_crossentropy',\n",
    "              optimizer=optimizers.SGD(lr=1e-4, momentum=0.9),\n",
    "              metrics=['accuracy'])"
   ]
  },
  {
   "cell_type": "code",
   "execution_count": 11,
   "metadata": {},
   "outputs": [
    {
     "name": "stdout",
     "output_type": "stream",
     "text": [
      "Epoch 1/100\n"
     ]
    },
    {
     "name": "stderr",
     "output_type": "stream",
     "text": [
      "/usr/local/lib/python3.5/dist-packages/PIL/Image.py:969: UserWarning: Palette images with Transparency   expressed in bytes should be converted to RGBA images\n",
      "  'to RGBA images')\n"
     ]
    },
    {
     "name": "stdout",
     "output_type": "stream",
     "text": [
      " - 20s - loss: 1.1057 - acc: 0.3646 - val_loss: 1.1047 - val_acc: 0.3610\n",
      "Epoch 2/100\n",
      " - 15s - loss: 1.0882 - acc: 0.3542 - val_loss: 1.1015 - val_acc: 0.3383\n",
      "Epoch 3/100\n",
      " - 14s - loss: 1.1069 - acc: 0.3264 - val_loss: 1.1339 - val_acc: 0.3346\n",
      "Epoch 4/100\n",
      " - 14s - loss: 1.1021 - acc: 0.3400 - val_loss: 0.9896 - val_acc: 0.4887\n",
      "Epoch 5/100\n",
      " - 15s - loss: 1.0833 - acc: 0.4236 - val_loss: 1.1792 - val_acc: 0.3571\n",
      "Epoch 6/100\n",
      " - 15s - loss: 1.0819 - acc: 0.3924 - val_loss: 1.1922 - val_acc: 0.3538\n",
      "Epoch 7/100\n",
      " - 13s - loss: 1.0576 - acc: 0.4618 - val_loss: 1.1434 - val_acc: 0.3872\n",
      "Epoch 8/100\n",
      " - 14s - loss: 1.0467 - acc: 0.4930 - val_loss: 1.4784 - val_acc: 0.3308\n",
      "Epoch 9/100\n",
      " - 15s - loss: 1.0396 - acc: 0.4618 - val_loss: 1.6615 - val_acc: 0.3271\n",
      "Epoch 10/100\n",
      " - 15s - loss: 1.0274 - acc: 0.4688 - val_loss: 2.1244 - val_acc: 0.3195\n",
      "Epoch 11/100\n",
      " - 15s - loss: 1.0124 - acc: 0.4931 - val_loss: 1.9902 - val_acc: 0.3285\n",
      "Epoch 12/100\n",
      " - 14s - loss: 0.9906 - acc: 0.5348 - val_loss: 2.0151 - val_acc: 0.3233\n",
      "Epoch 13/100\n",
      " - 16s - loss: 0.9870 - acc: 0.5556 - val_loss: 2.5608 - val_acc: 0.3421\n",
      "Epoch 14/100\n",
      " - 14s - loss: 0.9729 - acc: 0.5903 - val_loss: 2.7309 - val_acc: 0.3233\n",
      "Epoch 15/100\n",
      " - 14s - loss: 0.9439 - acc: 0.6064 - val_loss: 2.0039 - val_acc: 0.3271\n",
      "Epoch 16/100\n",
      " - 16s - loss: 0.8824 - acc: 0.6285 - val_loss: 1.8739 - val_acc: 0.3321\n",
      "Epoch 17/100\n",
      " - 14s - loss: 0.9265 - acc: 0.6146 - val_loss: 2.3291 - val_acc: 0.3195\n",
      "Epoch 18/100\n",
      " - 15s - loss: 0.8417 - acc: 0.6701 - val_loss: 2.7781 - val_acc: 0.3195\n",
      "Epoch 19/100\n",
      " - 15s - loss: 0.8637 - acc: 0.7018 - val_loss: 2.0588 - val_acc: 0.3383\n",
      "Epoch 20/100\n",
      " - 14s - loss: 0.7874 - acc: 0.7431 - val_loss: 2.0397 - val_acc: 0.3496\n",
      "Epoch 21/100\n",
      " - 15s - loss: 0.7691 - acc: 0.7639 - val_loss: 2.1045 - val_acc: 0.3466\n",
      "Epoch 22/100\n",
      " - 15s - loss: 0.7060 - acc: 0.7743 - val_loss: 2.1381 - val_acc: 0.3346\n",
      "Epoch 23/100\n",
      " - 14s - loss: 0.6560 - acc: 0.8151 - val_loss: 2.0211 - val_acc: 0.3195\n",
      "Epoch 24/100\n",
      " - 16s - loss: 0.6612 - acc: 0.8090 - val_loss: 1.1154 - val_acc: 0.5301\n",
      "Epoch 25/100\n",
      " - 15s - loss: 0.6221 - acc: 0.7812 - val_loss: 0.9423 - val_acc: 0.6353\n",
      "Epoch 26/100\n",
      " - 15s - loss: 0.5582 - acc: 0.8125 - val_loss: 0.8447 - val_acc: 0.6570\n",
      "Epoch 27/100\n",
      " - 13s - loss: 0.5483 - acc: 0.7942 - val_loss: 0.7751 - val_acc: 0.6767\n",
      "Epoch 28/100\n",
      " - 15s - loss: 0.5276 - acc: 0.8090 - val_loss: 0.8402 - val_acc: 0.6617\n",
      "Epoch 29/100\n",
      " - 14s - loss: 0.5264 - acc: 0.8160 - val_loss: 0.7381 - val_acc: 0.7143\n",
      "Epoch 30/100\n",
      " - 15s - loss: 0.4593 - acc: 0.8534 - val_loss: 1.2520 - val_acc: 0.5113\n",
      "Epoch 31/100\n",
      " - 16s - loss: 0.4879 - acc: 0.8333 - val_loss: 0.8107 - val_acc: 0.6498\n",
      "Epoch 32/100\n",
      " - 14s - loss: 0.4587 - acc: 0.8264 - val_loss: 0.7455 - val_acc: 0.7105\n",
      "Epoch 33/100\n",
      " - 14s - loss: 0.4194 - acc: 0.8576 - val_loss: 0.7713 - val_acc: 0.7030\n",
      "Epoch 34/100\n",
      " - 15s - loss: 0.3962 - acc: 0.8817 - val_loss: 0.7987 - val_acc: 0.6992\n",
      "Epoch 35/100\n",
      " - 15s - loss: 0.3837 - acc: 0.8924 - val_loss: 0.7261 - val_acc: 0.7444\n",
      "Epoch 36/100\n",
      " - 15s - loss: 0.4284 - acc: 0.8507 - val_loss: 0.5544 - val_acc: 0.7798\n",
      "Epoch 37/100\n",
      " - 14s - loss: 0.4009 - acc: 0.8924 - val_loss: 0.5025 - val_acc: 0.7707\n",
      "Epoch 38/100\n",
      " - 14s - loss: 0.3523 - acc: 0.9021 - val_loss: 0.4967 - val_acc: 0.7782\n",
      "Epoch 39/100\n",
      " - 15s - loss: 0.3659 - acc: 0.8785 - val_loss: 0.4432 - val_acc: 0.8008\n",
      "Epoch 40/100\n",
      " - 14s - loss: 0.4137 - acc: 0.8507 - val_loss: 0.4669 - val_acc: 0.7444\n",
      "Epoch 41/100\n",
      " - 15s - loss: 0.3781 - acc: 0.8673 - val_loss: 0.3726 - val_acc: 0.8592\n",
      "Epoch 42/100\n",
      " - 14s - loss: 0.2953 - acc: 0.9028 - val_loss: 0.3979 - val_acc: 0.8571\n",
      "Epoch 43/100\n",
      " - 14s - loss: 0.3887 - acc: 0.8576 - val_loss: 0.6104 - val_acc: 0.7105\n",
      "Epoch 44/100\n",
      " - 14s - loss: 0.3383 - acc: 0.8785 - val_loss: 0.4936 - val_acc: 0.8008\n",
      "Epoch 45/100\n",
      " - 13s - loss: 0.3339 - acc: 0.8588 - val_loss: 0.3297 - val_acc: 0.8797\n",
      "Epoch 46/100\n",
      " - 16s - loss: 0.3246 - acc: 0.9028 - val_loss: 0.3015 - val_acc: 0.9134\n",
      "Epoch 47/100\n",
      " - 14s - loss: 0.3048 - acc: 0.9097 - val_loss: 0.2385 - val_acc: 0.9248\n",
      "Epoch 48/100\n",
      " - 15s - loss: 0.3122 - acc: 0.8854 - val_loss: 0.2727 - val_acc: 0.8910\n",
      "Epoch 49/100\n",
      " - 13s - loss: 0.3761 - acc: 0.8484 - val_loss: 0.5259 - val_acc: 0.7932\n",
      "Epoch 50/100\n",
      " - 14s - loss: 0.3024 - acc: 0.9028 - val_loss: 0.4425 - val_acc: 0.8271\n",
      "Epoch 51/100\n",
      " - 16s - loss: 0.3953 - acc: 0.8542 - val_loss: 0.3036 - val_acc: 0.9134\n",
      "Epoch 52/100\n",
      " - 16s - loss: 0.3262 - acc: 0.8958 - val_loss: 0.4535 - val_acc: 0.8459\n",
      "Epoch 53/100\n",
      " - 14s - loss: 0.3057 - acc: 0.9075 - val_loss: 0.3313 - val_acc: 0.8872\n",
      "Epoch 54/100\n",
      " - 14s - loss: 0.3119 - acc: 0.8854 - val_loss: 0.3404 - val_acc: 0.8797\n",
      "Epoch 55/100\n",
      " - 15s - loss: 0.3098 - acc: 0.9062 - val_loss: 0.2343 - val_acc: 0.9361\n",
      "Epoch 56/100\n",
      " - 15s - loss: 0.3359 - acc: 0.8847 - val_loss: 0.2130 - val_acc: 0.9386\n",
      "Epoch 57/100\n",
      " - 15s - loss: 0.2693 - acc: 0.9097 - val_loss: 0.2012 - val_acc: 0.9248\n",
      "Epoch 58/100\n",
      " - 15s - loss: 0.3203 - acc: 0.9132 - val_loss: 0.2628 - val_acc: 0.9060\n",
      "Epoch 59/100\n",
      " - 14s - loss: 0.2213 - acc: 0.9479 - val_loss: 0.2567 - val_acc: 0.9098\n",
      "Epoch 60/100\n",
      " - 15s - loss: 0.2404 - acc: 0.9090 - val_loss: 0.2702 - val_acc: 0.9060\n",
      "Epoch 61/100\n",
      " - 16s - loss: 0.2883 - acc: 0.9201 - val_loss: 0.2648 - val_acc: 0.9097\n",
      "Epoch 62/100\n",
      " - 14s - loss: 0.2943 - acc: 0.9062 - val_loss: 0.2625 - val_acc: 0.9023\n",
      "Epoch 63/100\n",
      " - 16s - loss: 0.2128 - acc: 0.9375 - val_loss: 0.2320 - val_acc: 0.9211\n",
      "Epoch 64/100\n",
      " - 14s - loss: 0.2664 - acc: 0.9264 - val_loss: 0.3204 - val_acc: 0.8985\n",
      "Epoch 65/100\n",
      " - 15s - loss: 0.2903 - acc: 0.9062 - val_loss: 0.2139 - val_acc: 0.9286\n",
      "Epoch 66/100\n",
      " - 14s - loss: 0.2769 - acc: 0.8993 - val_loss: 0.1792 - val_acc: 0.9639\n",
      "Epoch 67/100\n",
      " - 14s - loss: 0.2040 - acc: 0.9513 - val_loss: 0.1907 - val_acc: 0.9624\n",
      "Epoch 68/100\n",
      " - 15s - loss: 0.2679 - acc: 0.9097 - val_loss: 0.1977 - val_acc: 0.9323\n",
      "Epoch 69/100\n",
      " - 15s - loss: 0.1794 - acc: 0.9444 - val_loss: 0.1644 - val_acc: 0.9586\n",
      "Epoch 70/100\n",
      " - 14s - loss: 0.2633 - acc: 0.9201 - val_loss: 0.1928 - val_acc: 0.9286\n",
      "Epoch 71/100\n",
      " - 15s - loss: 0.2262 - acc: 0.9269 - val_loss: 0.1541 - val_acc: 0.9675\n",
      "Epoch 72/100\n",
      " - 15s - loss: 0.2350 - acc: 0.9236 - val_loss: 0.1788 - val_acc: 0.9511\n",
      "Epoch 73/100\n",
      " - 14s - loss: 0.2306 - acc: 0.9340 - val_loss: 0.1406 - val_acc: 0.9699\n",
      "Epoch 74/100\n",
      " - 16s - loss: 0.2676 - acc: 0.9271 - val_loss: 0.1446 - val_acc: 0.9662\n",
      "Epoch 75/100\n",
      " - 15s - loss: 0.2339 - acc: 0.9304 - val_loss: 0.1349 - val_acc: 0.9586\n",
      "Epoch 76/100\n",
      " - 14s - loss: 0.2286 - acc: 0.9236 - val_loss: 0.1309 - val_acc: 0.9531\n",
      "Epoch 77/100\n",
      " - 14s - loss: 0.2651 - acc: 0.9132 - val_loss: 0.1638 - val_acc: 0.9398\n",
      "Epoch 78/100\n",
      " - 15s - loss: 0.2165 - acc: 0.9410 - val_loss: 0.1418 - val_acc: 0.9474\n",
      "Epoch 79/100\n",
      " - 15s - loss: 0.2309 - acc: 0.9264 - val_loss: 0.2149 - val_acc: 0.9135\n",
      "Epoch 80/100\n",
      " - 15s - loss: 0.2190 - acc: 0.9271 - val_loss: 0.2139 - val_acc: 0.9098\n",
      "Epoch 81/100\n",
      " - 16s - loss: 0.2272 - acc: 0.9271 - val_loss: 0.2559 - val_acc: 0.9134\n",
      "Epoch 82/100\n",
      " - 13s - loss: 0.2580 - acc: 0.9035 - val_loss: 0.2066 - val_acc: 0.9361\n",
      "Epoch 83/100\n",
      " - 16s - loss: 0.1524 - acc: 0.9549 - val_loss: 0.1662 - val_acc: 0.9586\n",
      "Epoch 84/100\n",
      " - 15s - loss: 0.2208 - acc: 0.9271 - val_loss: 0.1701 - val_acc: 0.9361\n",
      "Epoch 85/100\n",
      " - 16s - loss: 0.2025 - acc: 0.9236 - val_loss: 0.2348 - val_acc: 0.9248\n",
      "Epoch 86/100\n",
      " - 14s - loss: 0.2152 - acc: 0.9369 - val_loss: 0.4967 - val_acc: 0.7726\n",
      "Epoch 87/100\n",
      " - 15s - loss: 0.2382 - acc: 0.9375 - val_loss: 0.3026 - val_acc: 0.9098\n",
      "Epoch 88/100\n",
      " - 14s - loss: 0.1701 - acc: 0.9583 - val_loss: 0.1695 - val_acc: 0.9549\n",
      "Epoch 89/100\n",
      " - 15s - loss: 0.2363 - acc: 0.9410 - val_loss: 0.2083 - val_acc: 0.9286\n",
      "Epoch 90/100\n",
      " - 15s - loss: 0.2170 - acc: 0.9304 - val_loss: 0.2358 - val_acc: 0.9173\n",
      "Epoch 91/100\n",
      " - 14s - loss: 0.2437 - acc: 0.9062 - val_loss: 0.2665 - val_acc: 0.9206\n",
      "Epoch 92/100\n",
      " - 15s - loss: 0.2058 - acc: 0.9340 - val_loss: 0.1482 - val_acc: 0.9474\n",
      "Epoch 93/100\n",
      " - 15s - loss: 0.2250 - acc: 0.9271 - val_loss: 0.1174 - val_acc: 0.9624\n",
      "Epoch 94/100\n",
      " - 15s - loss: 0.1527 - acc: 0.9583 - val_loss: 0.3474 - val_acc: 0.8722\n",
      "Epoch 95/100\n",
      " - 15s - loss: 0.2125 - acc: 0.9201 - val_loss: 0.2212 - val_acc: 0.9361\n",
      "Epoch 96/100\n",
      " - 15s - loss: 0.1691 - acc: 0.9375 - val_loss: 0.1715 - val_acc: 0.9567\n",
      "Epoch 97/100\n",
      " - 13s - loss: 0.2307 - acc: 0.9070 - val_loss: 0.1765 - val_acc: 0.9361\n",
      "Epoch 98/100\n",
      " - 15s - loss: 0.2182 - acc: 0.9340 - val_loss: 0.2057 - val_acc: 0.9474\n",
      "Epoch 99/100\n",
      " - 16s - loss: 0.2038 - acc: 0.9271 - val_loss: 0.2685 - val_acc: 0.8910\n",
      "Epoch 100/100\n",
      " - 15s - loss: 0.1839 - acc: 0.9444 - val_loss: 0.2109 - val_acc: 0.9474\n"
     ]
    }
   ],
   "source": [
    "with tf.device(\"/device:GPU:0\"):\n",
    "    history_pretrained = mobile_transfer.fit_generator(\n",
    "        train_generator,\n",
    "        steps_per_epoch=18,\n",
    "        epochs=100, \n",
    "        shuffle = True, \n",
    "        verbose =2, \n",
    "        validation_data = validation_generator,  \n",
    "        validation_steps=18)"
   ]
  },
  {
   "cell_type": "code",
   "execution_count": 81,
   "metadata": {},
   "outputs": [
    {
     "data": {
      "text/plain": [
       "[0.19138606311753392, 0.9533333281675974]"
      ]
     },
     "execution_count": 81,
     "metadata": {},
     "output_type": "execute_result"
    }
   ],
   "source": [
    "mobile_transfer.evaluate_generator(test_generator, steps=6)"
   ]
  },
  {
   "cell_type": "code",
   "execution_count": 82,
   "metadata": {},
   "outputs": [
    {
     "data": {
      "text/plain": [
       "150"
      ]
     },
     "execution_count": 82,
     "metadata": {},
     "output_type": "execute_result"
    }
   ],
   "source": [
    "len(test_generator.classes)"
   ]
  },
  {
   "cell_type": "code",
   "execution_count": 87,
   "metadata": {},
   "outputs": [],
   "source": [
    "test_generator.reset()"
   ]
  },
  {
   "cell_type": "code",
   "execution_count": 88,
   "metadata": {},
   "outputs": [],
   "source": [
    "predictions = mobile_transfer.predict_generator(test_generator, steps=6, verbose=0)"
   ]
  },
  {
   "cell_type": "code",
   "execution_count": 89,
   "metadata": {},
   "outputs": [
    {
     "data": {
      "text/plain": [
       "150"
      ]
     },
     "execution_count": 89,
     "metadata": {},
     "output_type": "execute_result"
    }
   ],
   "source": [
    "len(predictions.argmax(axis=1))"
   ]
  },
  {
   "cell_type": "code",
   "execution_count": 90,
   "metadata": {},
   "outputs": [],
   "source": [
    "from sklearn.metrics import confusion_matrix"
   ]
  },
  {
   "cell_type": "code",
   "execution_count": 105,
   "metadata": {},
   "outputs": [],
   "source": [
    "cm = confusion_matrix(test_generator.classes, predictions.argmax(axis=1))"
   ]
  },
  {
   "cell_type": "code",
   "execution_count": 57,
   "metadata": {},
   "outputs": [],
   "source": [
    "import numpy as np\n",
    "from PIL import Image\n",
    "\n",
    "def pre_process_image(imagePath, img_height=224):\n",
    "    # Model input format\n",
    "    n, c, h, w = [1, 3, img_height, img_height]\n",
    "    image = Image.open(imagePath)\n",
    "    processedImg = image.resize((h, w), resample=Image.BILINEAR)\n",
    "\n",
    "    # Normalize to keep data between 0 - 1\n",
    "    processedImg = (np.array(processedImg) - 0) / 255.0\n",
    "\n",
    "    # Change data layout from HWC to CHW\n",
    "#     processedImg = processedImg.transpose((2, 0, 1))\n",
    "    processedImg = processedImg.reshape((n, h, w, c))\n",
    "\n",
    "    return processedImg"
   ]
  },
  {
   "cell_type": "code",
   "execution_count": 92,
   "metadata": {},
   "outputs": [],
   "source": [
    "\n",
    "x = pre_process_image('xoai-thai.www.vovimart.com-1-250x250.jpg')\n",
    "\n",
    "preds = mobile_transfer.predict(x)"
   ]
  },
  {
   "cell_type": "code",
   "execution_count": 93,
   "metadata": {},
   "outputs": [
    {
     "data": {
      "text/plain": [
       "array([[0.04797873, 0.0114284 , 0.9405929 ]], dtype=float32)"
      ]
     },
     "execution_count": 93,
     "metadata": {},
     "output_type": "execute_result"
    }
   ],
   "source": [
    "preds"
   ]
  },
  {
   "cell_type": "code",
   "execution_count": 43,
   "metadata": {},
   "outputs": [
    {
     "data": {
      "text/plain": [
       "{'Chuoi': 0, 'Tao': 1, 'Xoai': 2}"
      ]
     },
     "execution_count": 43,
     "metadata": {},
     "output_type": "execute_result"
    }
   ],
   "source": [
    "train_generator.class_indices"
   ]
  },
  {
   "cell_type": "code",
   "execution_count": 94,
   "metadata": {},
   "outputs": [],
   "source": [
    "# Save the h5 file to path specified.\n",
    "mobile_transfer.save('3class-fruits.h5')"
   ]
  },
  {
   "cell_type": "code",
   "execution_count": 95,
   "metadata": {},
   "outputs": [
    {
     "name": "stdout",
     "output_type": "stream",
     "text": [
      "['input_1'] ['dense_2/Softmax']\n",
      "WARNING:tensorflow:From <ipython-input-95-6f3c21f5493b>:13: remove_training_nodes (from tensorflow.python.framework.graph_util_impl) is deprecated and will be removed in a future version.\n",
      "Instructions for updating:\n",
      "Use tf.compat.v1.graph_util.remove_training_nodes\n",
      "WARNING:tensorflow:From <ipython-input-95-6f3c21f5493b>:14: convert_variables_to_constants (from tensorflow.python.framework.graph_util_impl) is deprecated and will be removed in a future version.\n",
      "Instructions for updating:\n",
      "Use tf.compat.v1.graph_util.convert_variables_to_constants\n",
      "WARNING:tensorflow:From /usr/local/lib/python3.5/dist-packages/tensorflow/python/framework/graph_util_impl.py:245: extract_sub_graph (from tensorflow.python.framework.graph_util_impl) is deprecated and will be removed in a future version.\n",
      "Instructions for updating:\n",
      "Use tf.compat.v1.graph_util.extract_sub_graph\n",
      "INFO:tensorflow:Froze 139 variables.\n",
      "INFO:tensorflow:Converted 139 variables to const ops.\n"
     ]
    }
   ],
   "source": [
    "import tensorflow as tf\n",
    "from tensorflow.python.framework import graph_io\n",
    "from tensorflow.keras.models import load_model\n",
    "\n",
    "\n",
    "# Clear any previous session.\n",
    "tf.keras.backend.clear_session()\n",
    "\n",
    "save_pb_dir = './'\n",
    "model_fname = './3class-fruits.h5'\n",
    "def freeze_graph(graph, session, output, save_pb_dir='.', save_pb_name='3class-fruits.h5.pb', save_pb_as_text=False):\n",
    "    with graph.as_default():\n",
    "        graphdef_inf = tf.graph_util.remove_training_nodes(graph.as_graph_def())\n",
    "        graphdef_frozen = tf.graph_util.convert_variables_to_constants(session, graphdef_inf, output)\n",
    "        graph_io.write_graph(graphdef_frozen, save_pb_dir, save_pb_name, as_text=save_pb_as_text)\n",
    "        return graphdef_frozen\n",
    "\n",
    "# This line must be executed before loading Keras model.\n",
    "tf.keras.backend.set_learning_phase(0) \n",
    "\n",
    "model = load_model(model_fname)\n",
    "\n",
    "session = tf.keras.backend.get_session()\n",
    "\n",
    "INPUT_NODE = [t.op.name for t in model.inputs]\n",
    "OUTPUT_NODE = [t.op.name for t in model.outputs]\n",
    "print(INPUT_NODE, OUTPUT_NODE)\n",
    "frozen_graph = freeze_graph(session.graph, session, [out.op.name for out in model.outputs], save_pb_dir=save_pb_dir)"
   ]
  },
  {
   "cell_type": "code",
   "execution_count": 97,
   "metadata": {},
   "outputs": [],
   "source": [
    "import seaborn as sns\n",
    "sns.set()"
   ]
  },
  {
   "cell_type": "code",
   "execution_count": 102,
   "metadata": {},
   "outputs": [
    {
     "data": {
      "image/png": "[encoded data removed]",
      "text/plain": [
       "<Figure size 432x288 with 1 Axes>"
      ]
     },
     "metadata": {},
     "output_type": "display_data"
    }
   ],
   "source": [
    "import matplotlib.pyplot as plt\n",
    "# summarize history for accuracy\n",
    "plt.plot(history_pretrained.history['acc'])\n",
    "plt.plot(history_pretrained.history['val_acc'])\n",
    "plt.title('Model accuracy')\n",
    "plt.ylabel('Accuracy')\n",
    "plt.xlabel('Epoch')\n",
    "plt.legend(['Train accuracy', 'Val accuracy'], loc='upper left')\n",
    "plt.show()"
   ]
  },
  {
   "cell_type": "code",
   "execution_count": 103,
   "metadata": {},
   "outputs": [
    {
     "data": {
      "image/png": "[encoded data removed]",
      "text/plain": [
       "<Figure size 432x288 with 1 Axes>"
      ]
     },
     "metadata": {},
     "output_type": "display_data"
    }
   ],
   "source": [
    "import matplotlib.pyplot as plt\n",
    "# summarize history for accuracy\n",
    "plt.plot(history_pretrained.history['loss'])\n",
    "plt.plot(history_pretrained.history['val_loss'])\n",
    "plt.title('Model loss')\n",
    "plt.ylabel('Loss')\n",
    "plt.xlabel('Epoch')\n",
    "plt.legend(['Train loss', 'Val Loss'], loc='upper left')\n",
    "plt.show()"
   ]
  },
  {
   "cell_type": "code",
   "execution_count": 112,
   "metadata": {},
   "outputs": [],
   "source": [
    "import pandas as pd\n",
    "import matplotlib.pyplot as plt\n",
    "import seaborn as sns\n",
    "\n",
    "def print_confusion_matrix(confusion_matrix, class_names, figsize = (10,7), fontsize=14):\n",
    "    \"\"\"Prints a confusion matrix, as returned by sklearn.metrics.confusion_matrix, as a heatmap.\n",
    "    \n",
    "    Arguments\n",
    "    ---------\n",
    "    confusion_matrix: numpy.ndarray\n",
    "        The numpy.ndarray object returned from a call to sklearn.metrics.confusion_matrix. \n",
    "        Similarly constructed ndarrays can also be used.\n",
    "    class_names: list\n",
    "        An ordered list of class names, in the order they index the given confusion matrix.\n",
    "    figsize: tuple\n",
    "        A 2-long tuple, the first value determining the horizontal size of the ouputted figure,\n",
    "        the second determining the vertical size. Defaults to (10,7).\n",
    "    fontsize: int\n",
    "        Font size for axes labels. Defaults to 14.\n",
    "        \n",
    "    Returns\n",
    "    -------\n",
    "    matplotlib.figure.Figure\n",
    "        The resulting confusion matrix figure\n",
    "    \"\"\"\n",
    "    df_cm = pd.DataFrame(\n",
    "        confusion_matrix, index=class_names, columns=class_names, \n",
    "    )\n",
    "    fig = plt.figure(figsize=figsize)\n",
    "    try:\n",
    "        heatmap = sns.heatmap(df_cm, annot=True, fmt=\"d\")\n",
    "    except ValueError:\n",
    "        raise ValueError(\"Confusion matrix values must be integers.\")\n",
    "    heatmap.yaxis.set_ticklabels(heatmap.yaxis.get_ticklabels(), rotation=0, ha='right', fontsize=fontsize)\n",
    "    heatmap.xaxis.set_ticklabels(heatmap.xaxis.get_ticklabels(), rotation=45, ha='right', fontsize=fontsize)\n",
    "    plt.ylabel('True label')\n",
    "    plt.xlabel('Predicted label')\n",
    "    return fig"
   ]
  },
  {
   "cell_type": "code",
   "execution_count": 113,
   "metadata": {},
   "outputs": [
    {
     "data": {
      "text/plain": [
       "{'Chuoi': 0, 'Tao': 1, 'Xoai': 2}"
      ]
     },
     "execution_count": 113,
     "metadata": {},
     "output_type": "execute_result"
    }
   ],
   "source": [
    "test_generator.class_indices"
   ]
  },
  {
   "cell_type": "code",
   "execution_count": 120,
   "metadata": {},
   "outputs": [
    {
     "data": {
      "text/plain": [
       "0.9533333333333334"
      ]
     },
     "execution_count": 120,
     "metadata": {},
     "output_type": "execute_result"
    }
   ],
   "source": [
    "import numpy as np\n",
    "from sklearn.metrics import accuracy_score\n",
    "accuracy_score(test_generator.classes, predictions.argmax(axis=1))"
   ]
  },
  {
   "cell_type": "code",
   "execution_count": 114,
   "metadata": {},
   "outputs": [
    {
     "data": {
      "text/plain": [
       "array([[50,  0,  0],\n",
       "       [ 1, 49,  0],\n",
       "       [ 6,  0, 44]])"
      ]
     },
     "execution_count": 114,
     "metadata": {},
     "output_type": "execute_result"
    }
   ],
   "source": [
    "cm"
   ]
  },
  {
   "cell_type": "code",
   "execution_count": 115,
   "metadata": {},
   "outputs": [
    {
     "data": {
      "image/png": "[encoded data removed]",
      "text/plain": [
       "<Figure size 720x504 with 2 Axes>"
      ]
     },
     "execution_count": 115,
     "metadata": {},
     "output_type": "execute_result"
    },
    {
     "data": {
      "image/png": "[encoded data removed]",
      "text/plain": [
       "<Figure size 720x504 with 2 Axes>"
      ]
     },
     "metadata": {},
     "output_type": "display_data"
    }
   ],
   "source": [
    "print_confusion_matrix(cm, ['Chuoi', 'Tao', 'Xoai'])"
   ]
  },
  {
   "cell_type": "code",
   "execution_count": null,
   "metadata": {},
   "outputs": [
    {
     "name": "stdout",
     "output_type": "stream",
     "text": [
      "Epoch 1/20\n",
      " - 19s - loss: 0.1424 - acc: 0.9549 - val_loss: 0.0995 - val_acc: 0.9774\n",
      "Epoch 2/20\n",
      " - 15s - loss: 0.1483 - acc: 0.9549 - val_loss: 0.0874 - val_acc: 0.9856\n",
      "Epoch 3/20\n",
      " - 15s - loss: 0.1020 - acc: 0.9617 - val_loss: 0.0912 - val_acc: 0.9737\n",
      "Epoch 4/20\n",
      " - 14s - loss: 0.1086 - acc: 0.9653 - val_loss: 0.0648 - val_acc: 0.9812\n",
      "Epoch 5/20\n",
      " - 15s - loss: 0.1066 - acc: 0.9583 - val_loss: 0.0600 - val_acc: 0.9774\n",
      "Epoch 6/20\n",
      " - 14s - loss: 0.1622 - acc: 0.9488 - val_loss: 0.0776 - val_acc: 0.9812\n",
      "Epoch 7/20\n"
     ]
    }
   ],
   "source": [
    "with tf.device(\"/device:GPU:0\"):\n",
    "    new_history_pretrained = mobile_transfer.fit_generator(\n",
    "        train_generator,\n",
    "        steps_per_epoch=18,\n",
    "        epochs=20, \n",
    "        shuffle = True, \n",
    "        verbose =2, \n",
    "        validation_data = validation_generator,  \n",
    "        validation_steps=18)"
   ]
  },
  {
   "cell_type": "code",
   "execution_count": null,
   "metadata": {},
   "outputs": [],
   "source": []
  }
 ],
 "metadata": {
  "kernelspec": {
   "display_name": "Python 3",
   "language": "python",
   "name": "python3"
  },
  "language_info": {
   "codemirror_mode": {
    "name": "ipython",
    "version": 3
   },
   "file_extension": ".py",
   "mimetype": "text/x-python",
   "name": "python",
   "nbconvert_exporter": "python",
   "pygments_lexer": "ipython3",
   "version": "3.5.3"
  }
 },
 "nbformat": 4,
 "nbformat_minor": 2
}
